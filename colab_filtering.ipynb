{
 "cells": [
  {
   "cell_type": "code",
   "execution_count": null,
   "metadata": {},
   "outputs": [],
   "source": [
    "import pandas as pd\n",
    "import numpy as np\n",
    "import pyspark\n",
    "from pyspark.sql import SparkSession\n",
    "from pyspark.sql.functions import col, avg, lit, udf, when, isnan, count, countDistinct, desc, asc, row_number, monotonically_increasing_id\n",
    "from sklearn.metrics import mean_squared_error, mean_absolute_error\n",
    "from sklearn.model_selection import train_test_split\n",
    "from sklearn.metrics.pairwise import cosine_similarity"
   ]
  },
  {
   "cell_type": "code",
   "execution_count": null,
   "metadata": {},
   "outputs": [],
   "source": [
    "spark = SparkSession.builder.appName('dataProcessing').config('spark.executor.memory', '6g').getOrCreate()"
   ]
  },
  {
   "cell_type": "code",
   "execution_count": null,
   "metadata": {},
   "outputs": [],
   "source": [
    "dataset = spark.read.csv('Data/merged_data.csv', header=True, inferSchema=True)"
   ]
  },
  {
   "cell_type": "code",
   "execution_count": null,
   "metadata": {},
   "outputs": [],
   "source": [
    "def calculate_similarity(user_item_matrix):\n",
    "    \"\"\"\n",
    "    Calculate the cosine similarity matrix from the user-item matrix\n",
    "    \"\"\"\n",
    "    similarity = cosine_similarity(user_item_matrix)\n",
    "    np.fill_diagonal(similarity, 0)\n",
    "    return pd.DataFrame(similarity, index=user_item_matrix.index, columns=user_item_matrix.index)\n"
   ]
  },
  {
   "cell_type": "code",
   "execution_count": null,
   "metadata": {},
   "outputs": [],
   "source": [
    "# Prediction of Ratings \n",
    "\n",
    "def predict_ratings(similarity, user_item_matrix, user_id):\n",
    "    \"\"\"\n",
    "    Predict ratings for all items for a given user\n",
    "    \"\"\"\n",
    "    total_similarity = similarity[user_id].sum()\n",
    "    weighted_sum = np.dot(similarity[user_id], user_item_matrix.fillna(0))\n",
    "\n",
    "    # Avoid division by zero\n",
    "    if total_similarity == 0:\n",
    "        total_similarity = 1\n",
    "\n",
    "    predictions = weighted_sum / total_similarity\n",
    "    predictions = pd.Series(predictions, index=user_item_matrix.columns)\n",
    "    return predictions"
   ]
  },
  {
   "cell_type": "code",
   "execution_count": null,
   "metadata": {},
   "outputs": [],
   "source": [
    "\n",
    "def train_test_split_and_predict(data):\n",
    "    \"\"\"\n",
    "    Split the data into train and test sets, predict ratings, and return the true and predicted ratings\n",
    "    \"\"\"\n",
    "    train_user_item_matrix, test_user_item_matrix = train_test_split(data, test_size=0.2)\n",
    "\n",
    "    similarity = calculate_similarity(train_user_item_matrix)\n",
    "    true_ratings = []\n",
    "    pred_ratings = []\n",
    "\n",
    "    for user_id in test_user_item_matrix.index:\n",
    "        true_rating = test_user_item_matrix.loc[user_id]\n",
    "        pred_rating = predict_ratings(similarity, train_user_item_matrix, user_id)\n",
    "        true_ratings.extend(true_rating[true_rating.notnull()])\n",
    "        pred_ratings.extend(pred_rating[true_rating.notnull()])\n",
    "\n",
    "    return true_ratings, pred_ratings"
   ]
  },
  {
   "cell_type": "code",
   "execution_count": null,
   "metadata": {},
   "outputs": [],
   "source": [
    "def evaluate_performance(data):\n",
    "    \"\"\"\n",
    "    Evaluate the performance of the collaborative filtering algorithm\n",
    "    \"\"\"\n",
    "    true_ratings, pred_ratings = train_test_split_and_predict(data)\n",
    "    rmse = np.sqrt(mean_squared_error(true_ratings, pred_ratings))\n",
    "    mae = mean_absolute_error(true_ratings, pred_ratings)\n",
    "    return rmse, mae"
   ]
  },
  {
   "cell_type": "code",
   "execution_count": null,
   "metadata": {},
   "outputs": [],
   "source": [
    "#Predicting the performance of the algorithm\n",
    "data = spark.read.csv('Data/merged_data.csv', header=True, inferSchema=True)\n",
    "rmse, mae = evaluate_performance(data)\n",
    "print(f'RMSE: {rmse}, MAE: {mae}')"
   ]
  }
 ],
 "metadata": {
  "kernelspec": {
   "display_name": "hw2",
   "language": "python",
   "name": "python3"
  },
  "language_info": {
   "name": "python",
   "version": "3.12.0"
  },
  "orig_nbformat": 4
 },
 "nbformat": 4,
 "nbformat_minor": 2
}
